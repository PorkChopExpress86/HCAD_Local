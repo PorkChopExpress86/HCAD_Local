{
 "cells": [
  {
   "cell_type": "markdown",
   "metadata": {
    "pycharm": {
     "name": "#%% md\n"
    }
   },
   "source": [
    "# Exploring HCAD Database\n",
    "The data that was extracted from the HCAD database and inserted into two tables in the sqlite database (database.sqlite) can be explored with Pandas library using python"
   ]
  },
  {
   "cell_type": "code",
   "execution_count": 2,
   "metadata": {
    "pycharm": {
     "name": "#%%\n"
    }
   },
   "outputs": [],
   "source": [
    "import sqlite3\n",
    "import pandas as pd"
   ]
  },
  {
   "cell_type": "code",
   "execution_count": 3,
   "metadata": {
    "pycharm": {
     "name": "#%%\n"
    }
   },
   "outputs": [],
   "source": [
    "con = sqlite3.connect('database.sqlite')\n",
    "sql = '''SELECT ra.acct AS account, ra.mailto AS owner, ra.site_addr_1 AS street_address, ra.site_addr_2 AS city, ra.site_addr_3 AS zip, ra.yr_impr,\n",
    "        CAST(ra.bld_ar AS INT) AS building_area, CAST(ra.land_ar AS INT) AS land_area, CAST(ra.tot_appr_val AS INT) AS appraised_value, (ra.tot_appr_val / ra.bld_ar) AS price_per_area, ra.protested \n",
    "        FROM real_acct as ra\n",
    "        INNER JOIN building_res br\n",
    "        ON ra.acct = br.acct \n",
    "        WHERE ra.site_addr_1 LIKE '% Wall%' AND ra.site_addr_3 = '77040' AND CAST(ra.str_num as int) % 2 != 0 AND NOT ra.site_addr_1 LIKE '%VAN%' AND ra.bld_ar > 0\n",
    "        ORDER BY price_per_area;'''\n",
    "df = pd.read_sql_query(sql, con)"
   ]
  },
  {
   "cell_type": "code",
   "execution_count": 4,
   "metadata": {
    "pycharm": {
     "name": "#%%\n"
    }
   },
   "outputs": [
    {
     "data": {
      "text/plain": "          account                              owner street_address  \\\n0   1074380000024                    RITTER JOSEPH M  16305 WALL ST   \n1   1074380000048                        LUU MY DUNG  16001 WALL ST   \n2   1074380000012                        ALEMAN OLGA  16421 WALL ST   \n3   1074380000036                   MAGNUSON BETTY A  16113 WALL ST   \n4   1074380000033                   SULLIVAN LINDA J  16125 WALL ST   \n5   1074380000010                     NASH GREGORY J  16429 WALL ST   \n6   1074380000045                       JAJOO RAJESH  16013 WALL ST   \n7   1074380000009                       LEW ALBERT K  16433 WALL ST   \n8   1074380000013                      LARSSON TOMAS  16417 WALL ST   \n9   1074380000015                     JACKSON JERI S  16409 WALL ST   \n10  1074380000025                      HEGER DAVID R  16301 WALL ST   \n11  1074380000029                        CORSO JOANN  16209 WALL ST   \n12  1074380000022                     NATIONS ASHLEY  16313 WALL ST   \n13  1074380000027                    NOLL VICTORIA A  16217 WALL ST   \n14  1074380000040                BROWN MICHAEL WAYNE  16025 WALL ST   \n15  1074380000046         HAMMERSTROM TROY & AIMEE E  16009 WALL ST   \n16  1074380000028         BOWDEN BLAKE C AND SARAH H  16213 WALL ST   \n17  1074380000020                      CURRENT OWNER  16321 WALL ST   \n18  1074380000026         HUGHES TERRY J & DEBORAH K  16221 WALL ST   \n19  1074380000014           ELLIOT-CONNER JAMMIE L M  16413 WALL ST   \n20  1074380000030                    REED LEROY W JR  16205 WALL ST   \n21  1074380000037      LAMBORN JARED C & KATHERINE J  16109 WALL ST   \n22  1074380000019                      CURRENT OWNER  16325 WALL ST   \n23  1074380000021                       PRICE TAMMRA  16317 WALL ST   \n24  1074380000038            TOWERY RONALD G & CLARE  16105 WALL ST   \n25  1074380000039   GILLESPIE CHANCE M & CHRISTINE O  16101 WALL ST   \n26  1074380000034             HENRY RYAN D & MINDY N  16121 WALL ST   \n27  1074380000047                     MELESKI BENNIE  16005 WALL ST   \n28  1074380000032  ROSS COLBY MUNRO II & ELYSIA DYAN  16129 WALL ST   \n29  1074380000044                CRANE CHRISTOPHER T  16017 WALL ST   \n30  1074380000031                       VOGEL JOSHUA  16201 WALL ST   \n31  1074380000018              GUTIERREZ CHRISTIAN F  16329 WALL ST   \n32  1074380000016                          TRAN DIEN  16405 WALL ST   \n33  1074380000035                    PAOLIVEGA MARIA  16117 WALL ST   \n34  1074380000017           FIERRO RODRIGO & ELISA A  16401 WALL ST   \n35  1074380000023                       RIBEIRO ERIK  16309 WALL ST   \n36  1074380000011                        SHUNKA KYLE  16425 WALL ST   \n\n              city    zip yr_impr  building_area  land_area  appraised_value  \\\n0   JERSEY VILLAGE  77040    1976           2433      15253           218900   \n1   JERSEY VILLAGE  77040    1989           5133      15135           530222   \n2   JERSEY VILLAGE  77040    1978           2141      15257           227407   \n3   JERSEY VILLAGE  77040    1976           2695      15736           287218   \n4   JERSEY VILLAGE  77040    1978           2763      17660           298280   \n5   JERSEY VILLAGE  77040    1978           2077      14135           228690   \n6   JERSEY VILLAGE  77040    1990           3169      15086           353309   \n7   JERSEY VILLAGE  77040    1978           2240      15783           251330   \n8   JERSEY VILLAGE  77040    1978           2240      15978           252583   \n9   JERSEY VILLAGE  77040    1978           2008      16168           225916   \n10  JERSEY VILLAGE  77040    1978           2516      15383           283399   \n11  JERSEY VILLAGE  77040    1978           2284      16411           256848   \n12  JERSEY VILLAGE  77040    1978           2385      19152           280965   \n13  JERSEY VILLAGE  77040    1978           2057      14248           244754   \n14  JERSEY VILLAGE  77040    1976           2241      15239           267344   \n15  JERSEY VILLAGE  77040    1990           3243      16371           388300   \n16  JERSEY VILLAGE  77040    1978           2236      15968           270329   \n17  JERSEY VILLAGE  77040    1978           1877      18575           228800   \n18  JERSEY VILLAGE  77040    1994           2414      14875           292519   \n19  JERSEY VILLAGE  77040    1977           2141      16189           262966   \n20  JERSEY VILLAGE  77040    1978           2250      15325           277138   \n21  JERSEY VILLAGE  77040    1976           2450      15383           304261   \n22  JERSEY VILLAGE  77040    1978           2719      15567           344762   \n23  JERSEY VILLAGE  77040    1978           2100      19474           268007   \n24  JERSEY VILLAGE  77040    1976           2100      13511           267933   \n25  JERSEY VILLAGE  77040    1976           2160      13966           275000   \n26  JERSEY VILLAGE  77040    1977           2229      17784           290768   \n27  JERSEY VILLAGE  77040    1989           2353      17934           310822   \n28  JERSEY VILLAGE  77040    1978           2332      19554           310566   \n29  JERSEY VILLAGE  77040    1990           3438      16836           462937   \n30  JERSEY VILLAGE  77040    1978           2319      18206           313927   \n31  JERSEY VILLAGE  77040    1980           2261      15731           308255   \n32  JERSEY VILLAGE  77040    1980           2240      14821           307004   \n33  JERSEY VILLAGE  77040    1976           2408      16482           336049   \n34  JERSEY VILLAGE  77040    1980           2008      14196           281431   \n35  JERSEY VILLAGE  77040    1978           2270      15350           329772   \n36  JERSEY VILLAGE  77040    1978           2008      16277           301895   \n\n    price_per_area protested  \n0               89         Y  \n1              103         Y  \n2              106         Y  \n3              106         Y  \n4              107         N  \n5              110         Y  \n6              111         Y  \n7              112         Y  \n8              112         Y  \n9              112         Y  \n10             112         N  \n11             112         N  \n12             117         Y  \n13             118         N  \n14             119         N  \n15             119         Y  \n16             120         Y  \n17             121         Y  \n18             121         Y  \n19             122         N  \n20             123         N  \n21             124         N  \n22             126         N  \n23             127         N  \n24             127         Y  \n25             127         Y  \n26             130         N  \n27             132         Y  \n28             133         N  \n29             134         N  \n30             135         Y  \n31             136         N  \n32             137         Y  \n33             139         N  \n34             140         N  \n35             145         N  \n36             150         Y  ",
      "text/html": "<div>\n<style scoped>\n    .dataframe tbody tr th:only-of-type {\n        vertical-align: middle;\n    }\n\n    .dataframe tbody tr th {\n        vertical-align: top;\n    }\n\n    .dataframe thead th {\n        text-align: right;\n    }\n</style>\n<table border=\"1\" class=\"dataframe\">\n  <thead>\n    <tr style=\"text-align: right;\">\n      <th></th>\n      <th>account</th>\n      <th>owner</th>\n      <th>street_address</th>\n      <th>city</th>\n      <th>zip</th>\n      <th>yr_impr</th>\n      <th>building_area</th>\n      <th>land_area</th>\n      <th>appraised_value</th>\n      <th>price_per_area</th>\n      <th>protested</th>\n    </tr>\n  </thead>\n  <tbody>\n    <tr>\n      <th>0</th>\n      <td>1074380000024</td>\n      <td>RITTER JOSEPH M</td>\n      <td>16305 WALL ST</td>\n      <td>JERSEY VILLAGE</td>\n      <td>77040</td>\n      <td>1976</td>\n      <td>2433</td>\n      <td>15253</td>\n      <td>218900</td>\n      <td>89</td>\n      <td>Y</td>\n    </tr>\n    <tr>\n      <th>1</th>\n      <td>1074380000048</td>\n      <td>LUU MY DUNG</td>\n      <td>16001 WALL ST</td>\n      <td>JERSEY VILLAGE</td>\n      <td>77040</td>\n      <td>1989</td>\n      <td>5133</td>\n      <td>15135</td>\n      <td>530222</td>\n      <td>103</td>\n      <td>Y</td>\n    </tr>\n    <tr>\n      <th>2</th>\n      <td>1074380000012</td>\n      <td>ALEMAN OLGA</td>\n      <td>16421 WALL ST</td>\n      <td>JERSEY VILLAGE</td>\n      <td>77040</td>\n      <td>1978</td>\n      <td>2141</td>\n      <td>15257</td>\n      <td>227407</td>\n      <td>106</td>\n      <td>Y</td>\n    </tr>\n    <tr>\n      <th>3</th>\n      <td>1074380000036</td>\n      <td>MAGNUSON BETTY A</td>\n      <td>16113 WALL ST</td>\n      <td>JERSEY VILLAGE</td>\n      <td>77040</td>\n      <td>1976</td>\n      <td>2695</td>\n      <td>15736</td>\n      <td>287218</td>\n      <td>106</td>\n      <td>Y</td>\n    </tr>\n    <tr>\n      <th>4</th>\n      <td>1074380000033</td>\n      <td>SULLIVAN LINDA J</td>\n      <td>16125 WALL ST</td>\n      <td>JERSEY VILLAGE</td>\n      <td>77040</td>\n      <td>1978</td>\n      <td>2763</td>\n      <td>17660</td>\n      <td>298280</td>\n      <td>107</td>\n      <td>N</td>\n    </tr>\n    <tr>\n      <th>5</th>\n      <td>1074380000010</td>\n      <td>NASH GREGORY J</td>\n      <td>16429 WALL ST</td>\n      <td>JERSEY VILLAGE</td>\n      <td>77040</td>\n      <td>1978</td>\n      <td>2077</td>\n      <td>14135</td>\n      <td>228690</td>\n      <td>110</td>\n      <td>Y</td>\n    </tr>\n    <tr>\n      <th>6</th>\n      <td>1074380000045</td>\n      <td>JAJOO RAJESH</td>\n      <td>16013 WALL ST</td>\n      <td>JERSEY VILLAGE</td>\n      <td>77040</td>\n      <td>1990</td>\n      <td>3169</td>\n      <td>15086</td>\n      <td>353309</td>\n      <td>111</td>\n      <td>Y</td>\n    </tr>\n    <tr>\n      <th>7</th>\n      <td>1074380000009</td>\n      <td>LEW ALBERT K</td>\n      <td>16433 WALL ST</td>\n      <td>JERSEY VILLAGE</td>\n      <td>77040</td>\n      <td>1978</td>\n      <td>2240</td>\n      <td>15783</td>\n      <td>251330</td>\n      <td>112</td>\n      <td>Y</td>\n    </tr>\n    <tr>\n      <th>8</th>\n      <td>1074380000013</td>\n      <td>LARSSON TOMAS</td>\n      <td>16417 WALL ST</td>\n      <td>JERSEY VILLAGE</td>\n      <td>77040</td>\n      <td>1978</td>\n      <td>2240</td>\n      <td>15978</td>\n      <td>252583</td>\n      <td>112</td>\n      <td>Y</td>\n    </tr>\n    <tr>\n      <th>9</th>\n      <td>1074380000015</td>\n      <td>JACKSON JERI S</td>\n      <td>16409 WALL ST</td>\n      <td>JERSEY VILLAGE</td>\n      <td>77040</td>\n      <td>1978</td>\n      <td>2008</td>\n      <td>16168</td>\n      <td>225916</td>\n      <td>112</td>\n      <td>Y</td>\n    </tr>\n    <tr>\n      <th>10</th>\n      <td>1074380000025</td>\n      <td>HEGER DAVID R</td>\n      <td>16301 WALL ST</td>\n      <td>JERSEY VILLAGE</td>\n      <td>77040</td>\n      <td>1978</td>\n      <td>2516</td>\n      <td>15383</td>\n      <td>283399</td>\n      <td>112</td>\n      <td>N</td>\n    </tr>\n    <tr>\n      <th>11</th>\n      <td>1074380000029</td>\n      <td>CORSO JOANN</td>\n      <td>16209 WALL ST</td>\n      <td>JERSEY VILLAGE</td>\n      <td>77040</td>\n      <td>1978</td>\n      <td>2284</td>\n      <td>16411</td>\n      <td>256848</td>\n      <td>112</td>\n      <td>N</td>\n    </tr>\n    <tr>\n      <th>12</th>\n      <td>1074380000022</td>\n      <td>NATIONS ASHLEY</td>\n      <td>16313 WALL ST</td>\n      <td>JERSEY VILLAGE</td>\n      <td>77040</td>\n      <td>1978</td>\n      <td>2385</td>\n      <td>19152</td>\n      <td>280965</td>\n      <td>117</td>\n      <td>Y</td>\n    </tr>\n    <tr>\n      <th>13</th>\n      <td>1074380000027</td>\n      <td>NOLL VICTORIA A</td>\n      <td>16217 WALL ST</td>\n      <td>JERSEY VILLAGE</td>\n      <td>77040</td>\n      <td>1978</td>\n      <td>2057</td>\n      <td>14248</td>\n      <td>244754</td>\n      <td>118</td>\n      <td>N</td>\n    </tr>\n    <tr>\n      <th>14</th>\n      <td>1074380000040</td>\n      <td>BROWN MICHAEL WAYNE</td>\n      <td>16025 WALL ST</td>\n      <td>JERSEY VILLAGE</td>\n      <td>77040</td>\n      <td>1976</td>\n      <td>2241</td>\n      <td>15239</td>\n      <td>267344</td>\n      <td>119</td>\n      <td>N</td>\n    </tr>\n    <tr>\n      <th>15</th>\n      <td>1074380000046</td>\n      <td>HAMMERSTROM TROY &amp; AIMEE E</td>\n      <td>16009 WALL ST</td>\n      <td>JERSEY VILLAGE</td>\n      <td>77040</td>\n      <td>1990</td>\n      <td>3243</td>\n      <td>16371</td>\n      <td>388300</td>\n      <td>119</td>\n      <td>Y</td>\n    </tr>\n    <tr>\n      <th>16</th>\n      <td>1074380000028</td>\n      <td>BOWDEN BLAKE C AND SARAH H</td>\n      <td>16213 WALL ST</td>\n      <td>JERSEY VILLAGE</td>\n      <td>77040</td>\n      <td>1978</td>\n      <td>2236</td>\n      <td>15968</td>\n      <td>270329</td>\n      <td>120</td>\n      <td>Y</td>\n    </tr>\n    <tr>\n      <th>17</th>\n      <td>1074380000020</td>\n      <td>CURRENT OWNER</td>\n      <td>16321 WALL ST</td>\n      <td>JERSEY VILLAGE</td>\n      <td>77040</td>\n      <td>1978</td>\n      <td>1877</td>\n      <td>18575</td>\n      <td>228800</td>\n      <td>121</td>\n      <td>Y</td>\n    </tr>\n    <tr>\n      <th>18</th>\n      <td>1074380000026</td>\n      <td>HUGHES TERRY J &amp; DEBORAH K</td>\n      <td>16221 WALL ST</td>\n      <td>JERSEY VILLAGE</td>\n      <td>77040</td>\n      <td>1994</td>\n      <td>2414</td>\n      <td>14875</td>\n      <td>292519</td>\n      <td>121</td>\n      <td>Y</td>\n    </tr>\n    <tr>\n      <th>19</th>\n      <td>1074380000014</td>\n      <td>ELLIOT-CONNER JAMMIE L M</td>\n      <td>16413 WALL ST</td>\n      <td>JERSEY VILLAGE</td>\n      <td>77040</td>\n      <td>1977</td>\n      <td>2141</td>\n      <td>16189</td>\n      <td>262966</td>\n      <td>122</td>\n      <td>N</td>\n    </tr>\n    <tr>\n      <th>20</th>\n      <td>1074380000030</td>\n      <td>REED LEROY W JR</td>\n      <td>16205 WALL ST</td>\n      <td>JERSEY VILLAGE</td>\n      <td>77040</td>\n      <td>1978</td>\n      <td>2250</td>\n      <td>15325</td>\n      <td>277138</td>\n      <td>123</td>\n      <td>N</td>\n    </tr>\n    <tr>\n      <th>21</th>\n      <td>1074380000037</td>\n      <td>LAMBORN JARED C &amp; KATHERINE J</td>\n      <td>16109 WALL ST</td>\n      <td>JERSEY VILLAGE</td>\n      <td>77040</td>\n      <td>1976</td>\n      <td>2450</td>\n      <td>15383</td>\n      <td>304261</td>\n      <td>124</td>\n      <td>N</td>\n    </tr>\n    <tr>\n      <th>22</th>\n      <td>1074380000019</td>\n      <td>CURRENT OWNER</td>\n      <td>16325 WALL ST</td>\n      <td>JERSEY VILLAGE</td>\n      <td>77040</td>\n      <td>1978</td>\n      <td>2719</td>\n      <td>15567</td>\n      <td>344762</td>\n      <td>126</td>\n      <td>N</td>\n    </tr>\n    <tr>\n      <th>23</th>\n      <td>1074380000021</td>\n      <td>PRICE TAMMRA</td>\n      <td>16317 WALL ST</td>\n      <td>JERSEY VILLAGE</td>\n      <td>77040</td>\n      <td>1978</td>\n      <td>2100</td>\n      <td>19474</td>\n      <td>268007</td>\n      <td>127</td>\n      <td>N</td>\n    </tr>\n    <tr>\n      <th>24</th>\n      <td>1074380000038</td>\n      <td>TOWERY RONALD G &amp; CLARE</td>\n      <td>16105 WALL ST</td>\n      <td>JERSEY VILLAGE</td>\n      <td>77040</td>\n      <td>1976</td>\n      <td>2100</td>\n      <td>13511</td>\n      <td>267933</td>\n      <td>127</td>\n      <td>Y</td>\n    </tr>\n    <tr>\n      <th>25</th>\n      <td>1074380000039</td>\n      <td>GILLESPIE CHANCE M &amp; CHRISTINE O</td>\n      <td>16101 WALL ST</td>\n      <td>JERSEY VILLAGE</td>\n      <td>77040</td>\n      <td>1976</td>\n      <td>2160</td>\n      <td>13966</td>\n      <td>275000</td>\n      <td>127</td>\n      <td>Y</td>\n    </tr>\n    <tr>\n      <th>26</th>\n      <td>1074380000034</td>\n      <td>HENRY RYAN D &amp; MINDY N</td>\n      <td>16121 WALL ST</td>\n      <td>JERSEY VILLAGE</td>\n      <td>77040</td>\n      <td>1977</td>\n      <td>2229</td>\n      <td>17784</td>\n      <td>290768</td>\n      <td>130</td>\n      <td>N</td>\n    </tr>\n    <tr>\n      <th>27</th>\n      <td>1074380000047</td>\n      <td>MELESKI BENNIE</td>\n      <td>16005 WALL ST</td>\n      <td>JERSEY VILLAGE</td>\n      <td>77040</td>\n      <td>1989</td>\n      <td>2353</td>\n      <td>17934</td>\n      <td>310822</td>\n      <td>132</td>\n      <td>Y</td>\n    </tr>\n    <tr>\n      <th>28</th>\n      <td>1074380000032</td>\n      <td>ROSS COLBY MUNRO II &amp; ELYSIA DYAN</td>\n      <td>16129 WALL ST</td>\n      <td>JERSEY VILLAGE</td>\n      <td>77040</td>\n      <td>1978</td>\n      <td>2332</td>\n      <td>19554</td>\n      <td>310566</td>\n      <td>133</td>\n      <td>N</td>\n    </tr>\n    <tr>\n      <th>29</th>\n      <td>1074380000044</td>\n      <td>CRANE CHRISTOPHER T</td>\n      <td>16017 WALL ST</td>\n      <td>JERSEY VILLAGE</td>\n      <td>77040</td>\n      <td>1990</td>\n      <td>3438</td>\n      <td>16836</td>\n      <td>462937</td>\n      <td>134</td>\n      <td>N</td>\n    </tr>\n    <tr>\n      <th>30</th>\n      <td>1074380000031</td>\n      <td>VOGEL JOSHUA</td>\n      <td>16201 WALL ST</td>\n      <td>JERSEY VILLAGE</td>\n      <td>77040</td>\n      <td>1978</td>\n      <td>2319</td>\n      <td>18206</td>\n      <td>313927</td>\n      <td>135</td>\n      <td>Y</td>\n    </tr>\n    <tr>\n      <th>31</th>\n      <td>1074380000018</td>\n      <td>GUTIERREZ CHRISTIAN F</td>\n      <td>16329 WALL ST</td>\n      <td>JERSEY VILLAGE</td>\n      <td>77040</td>\n      <td>1980</td>\n      <td>2261</td>\n      <td>15731</td>\n      <td>308255</td>\n      <td>136</td>\n      <td>N</td>\n    </tr>\n    <tr>\n      <th>32</th>\n      <td>1074380000016</td>\n      <td>TRAN DIEN</td>\n      <td>16405 WALL ST</td>\n      <td>JERSEY VILLAGE</td>\n      <td>77040</td>\n      <td>1980</td>\n      <td>2240</td>\n      <td>14821</td>\n      <td>307004</td>\n      <td>137</td>\n      <td>Y</td>\n    </tr>\n    <tr>\n      <th>33</th>\n      <td>1074380000035</td>\n      <td>PAOLIVEGA MARIA</td>\n      <td>16117 WALL ST</td>\n      <td>JERSEY VILLAGE</td>\n      <td>77040</td>\n      <td>1976</td>\n      <td>2408</td>\n      <td>16482</td>\n      <td>336049</td>\n      <td>139</td>\n      <td>N</td>\n    </tr>\n    <tr>\n      <th>34</th>\n      <td>1074380000017</td>\n      <td>FIERRO RODRIGO &amp; ELISA A</td>\n      <td>16401 WALL ST</td>\n      <td>JERSEY VILLAGE</td>\n      <td>77040</td>\n      <td>1980</td>\n      <td>2008</td>\n      <td>14196</td>\n      <td>281431</td>\n      <td>140</td>\n      <td>N</td>\n    </tr>\n    <tr>\n      <th>35</th>\n      <td>1074380000023</td>\n      <td>RIBEIRO ERIK</td>\n      <td>16309 WALL ST</td>\n      <td>JERSEY VILLAGE</td>\n      <td>77040</td>\n      <td>1978</td>\n      <td>2270</td>\n      <td>15350</td>\n      <td>329772</td>\n      <td>145</td>\n      <td>N</td>\n    </tr>\n    <tr>\n      <th>36</th>\n      <td>1074380000011</td>\n      <td>SHUNKA KYLE</td>\n      <td>16425 WALL ST</td>\n      <td>JERSEY VILLAGE</td>\n      <td>77040</td>\n      <td>1978</td>\n      <td>2008</td>\n      <td>16277</td>\n      <td>301895</td>\n      <td>150</td>\n      <td>Y</td>\n    </tr>\n  </tbody>\n</table>\n</div>"
     },
     "execution_count": 4,
     "metadata": {},
     "output_type": "execute_result"
    }
   ],
   "source": [
    "df"
   ]
  },
  {
   "cell_type": "code",
   "execution_count": 5,
   "metadata": {
    "pycharm": {
     "name": "#%%\n"
    }
   },
   "outputs": [
    {
     "name": "stdout",
     "output_type": "stream",
     "text": [
      "<class 'pandas.core.frame.DataFrame'>\n",
      "RangeIndex: 37 entries, 0 to 36\n",
      "Data columns (total 11 columns):\n",
      " #   Column           Non-Null Count  Dtype \n",
      "---  ------           --------------  ----- \n",
      " 0   account          37 non-null     int64 \n",
      " 1   owner            37 non-null     object\n",
      " 2   street_address   37 non-null     object\n",
      " 3   city             37 non-null     object\n",
      " 4   zip              37 non-null     object\n",
      " 5   yr_impr          37 non-null     object\n",
      " 6   building_area    37 non-null     int64 \n",
      " 7   land_area        37 non-null     int64 \n",
      " 8   appraised_value  37 non-null     int64 \n",
      " 9   price_per_area   37 non-null     int64 \n",
      " 10  protested        37 non-null     object\n",
      "dtypes: int64(5), object(6)\n",
      "memory usage: 3.3+ KB\n"
     ]
    }
   ],
   "source": [
    "# Convert building_area, land_are, appraised_value\n",
    "df.info()"
   ]
  },
  {
   "cell_type": "code",
   "execution_count": 6,
   "metadata": {
    "pycharm": {
     "name": "#%%\n"
    }
   },
   "outputs": [
    {
     "data": {
      "text/plain": "          account                          owner street_address  \\\n0   1074380000024                RITTER JOSEPH M  16305 WALL ST   \n2   1074380000012                    ALEMAN OLGA  16421 WALL ST   \n7   1074380000009                   LEW ALBERT K  16433 WALL ST   \n8   1074380000013                  LARSSON TOMAS  16417 WALL ST   \n11  1074380000029                    CORSO JOANN  16209 WALL ST   \n14  1074380000040            BROWN MICHAEL WAYNE  16025 WALL ST   \n16  1074380000028     BOWDEN BLAKE C AND SARAH H  16213 WALL ST   \n18  1074380000026     HUGHES TERRY J & DEBORAH K  16221 WALL ST   \n19  1074380000014       ELLIOT-CONNER JAMMIE L M  16413 WALL ST   \n20  1074380000030                REED LEROY W JR  16205 WALL ST   \n21  1074380000037  LAMBORN JARED C & KATHERINE J  16109 WALL ST   \n26  1074380000034         HENRY RYAN D & MINDY N  16121 WALL ST   \n27  1074380000047                 MELESKI BENNIE  16005 WALL ST   \n30  1074380000031                   VOGEL JOSHUA  16201 WALL ST   \n31  1074380000018          GUTIERREZ CHRISTIAN F  16329 WALL ST   \n32  1074380000016                      TRAN DIEN  16405 WALL ST   \n33  1074380000035                PAOLIVEGA MARIA  16117 WALL ST   \n35  1074380000023                   RIBEIRO ERIK  16309 WALL ST   \n\n              city    zip yr_impr  building_area  land_area  appraised_value  \\\n0   JERSEY VILLAGE  77040    1976           2433      15253           218900   \n2   JERSEY VILLAGE  77040    1978           2141      15257           227407   \n7   JERSEY VILLAGE  77040    1978           2240      15783           251330   \n8   JERSEY VILLAGE  77040    1978           2240      15978           252583   \n11  JERSEY VILLAGE  77040    1978           2284      16411           256848   \n14  JERSEY VILLAGE  77040    1976           2241      15239           267344   \n16  JERSEY VILLAGE  77040    1978           2236      15968           270329   \n18  JERSEY VILLAGE  77040    1994           2414      14875           292519   \n19  JERSEY VILLAGE  77040    1977           2141      16189           262966   \n20  JERSEY VILLAGE  77040    1978           2250      15325           277138   \n21  JERSEY VILLAGE  77040    1976           2450      15383           304261   \n26  JERSEY VILLAGE  77040    1977           2229      17784           290768   \n27  JERSEY VILLAGE  77040    1989           2353      17934           310822   \n30  JERSEY VILLAGE  77040    1978           2319      18206           313927   \n31  JERSEY VILLAGE  77040    1980           2261      15731           308255   \n32  JERSEY VILLAGE  77040    1980           2240      14821           307004   \n33  JERSEY VILLAGE  77040    1976           2408      16482           336049   \n35  JERSEY VILLAGE  77040    1978           2270      15350           329772   \n\n    price_per_area protested  \n0               89         Y  \n2              106         Y  \n7              112         Y  \n8              112         Y  \n11             112         N  \n14             119         N  \n16             120         Y  \n18             121         Y  \n19             122         N  \n20             123         N  \n21             124         N  \n26             130         N  \n27             132         Y  \n30             135         Y  \n31             136         N  \n32             137         Y  \n33             139         N  \n35             145         N  ",
      "text/html": "<div>\n<style scoped>\n    .dataframe tbody tr th:only-of-type {\n        vertical-align: middle;\n    }\n\n    .dataframe tbody tr th {\n        vertical-align: top;\n    }\n\n    .dataframe thead th {\n        text-align: right;\n    }\n</style>\n<table border=\"1\" class=\"dataframe\">\n  <thead>\n    <tr style=\"text-align: right;\">\n      <th></th>\n      <th>account</th>\n      <th>owner</th>\n      <th>street_address</th>\n      <th>city</th>\n      <th>zip</th>\n      <th>yr_impr</th>\n      <th>building_area</th>\n      <th>land_area</th>\n      <th>appraised_value</th>\n      <th>price_per_area</th>\n      <th>protested</th>\n    </tr>\n  </thead>\n  <tbody>\n    <tr>\n      <th>0</th>\n      <td>1074380000024</td>\n      <td>RITTER JOSEPH M</td>\n      <td>16305 WALL ST</td>\n      <td>JERSEY VILLAGE</td>\n      <td>77040</td>\n      <td>1976</td>\n      <td>2433</td>\n      <td>15253</td>\n      <td>218900</td>\n      <td>89</td>\n      <td>Y</td>\n    </tr>\n    <tr>\n      <th>2</th>\n      <td>1074380000012</td>\n      <td>ALEMAN OLGA</td>\n      <td>16421 WALL ST</td>\n      <td>JERSEY VILLAGE</td>\n      <td>77040</td>\n      <td>1978</td>\n      <td>2141</td>\n      <td>15257</td>\n      <td>227407</td>\n      <td>106</td>\n      <td>Y</td>\n    </tr>\n    <tr>\n      <th>7</th>\n      <td>1074380000009</td>\n      <td>LEW ALBERT K</td>\n      <td>16433 WALL ST</td>\n      <td>JERSEY VILLAGE</td>\n      <td>77040</td>\n      <td>1978</td>\n      <td>2240</td>\n      <td>15783</td>\n      <td>251330</td>\n      <td>112</td>\n      <td>Y</td>\n    </tr>\n    <tr>\n      <th>8</th>\n      <td>1074380000013</td>\n      <td>LARSSON TOMAS</td>\n      <td>16417 WALL ST</td>\n      <td>JERSEY VILLAGE</td>\n      <td>77040</td>\n      <td>1978</td>\n      <td>2240</td>\n      <td>15978</td>\n      <td>252583</td>\n      <td>112</td>\n      <td>Y</td>\n    </tr>\n    <tr>\n      <th>11</th>\n      <td>1074380000029</td>\n      <td>CORSO JOANN</td>\n      <td>16209 WALL ST</td>\n      <td>JERSEY VILLAGE</td>\n      <td>77040</td>\n      <td>1978</td>\n      <td>2284</td>\n      <td>16411</td>\n      <td>256848</td>\n      <td>112</td>\n      <td>N</td>\n    </tr>\n    <tr>\n      <th>14</th>\n      <td>1074380000040</td>\n      <td>BROWN MICHAEL WAYNE</td>\n      <td>16025 WALL ST</td>\n      <td>JERSEY VILLAGE</td>\n      <td>77040</td>\n      <td>1976</td>\n      <td>2241</td>\n      <td>15239</td>\n      <td>267344</td>\n      <td>119</td>\n      <td>N</td>\n    </tr>\n    <tr>\n      <th>16</th>\n      <td>1074380000028</td>\n      <td>BOWDEN BLAKE C AND SARAH H</td>\n      <td>16213 WALL ST</td>\n      <td>JERSEY VILLAGE</td>\n      <td>77040</td>\n      <td>1978</td>\n      <td>2236</td>\n      <td>15968</td>\n      <td>270329</td>\n      <td>120</td>\n      <td>Y</td>\n    </tr>\n    <tr>\n      <th>18</th>\n      <td>1074380000026</td>\n      <td>HUGHES TERRY J &amp; DEBORAH K</td>\n      <td>16221 WALL ST</td>\n      <td>JERSEY VILLAGE</td>\n      <td>77040</td>\n      <td>1994</td>\n      <td>2414</td>\n      <td>14875</td>\n      <td>292519</td>\n      <td>121</td>\n      <td>Y</td>\n    </tr>\n    <tr>\n      <th>19</th>\n      <td>1074380000014</td>\n      <td>ELLIOT-CONNER JAMMIE L M</td>\n      <td>16413 WALL ST</td>\n      <td>JERSEY VILLAGE</td>\n      <td>77040</td>\n      <td>1977</td>\n      <td>2141</td>\n      <td>16189</td>\n      <td>262966</td>\n      <td>122</td>\n      <td>N</td>\n    </tr>\n    <tr>\n      <th>20</th>\n      <td>1074380000030</td>\n      <td>REED LEROY W JR</td>\n      <td>16205 WALL ST</td>\n      <td>JERSEY VILLAGE</td>\n      <td>77040</td>\n      <td>1978</td>\n      <td>2250</td>\n      <td>15325</td>\n      <td>277138</td>\n      <td>123</td>\n      <td>N</td>\n    </tr>\n    <tr>\n      <th>21</th>\n      <td>1074380000037</td>\n      <td>LAMBORN JARED C &amp; KATHERINE J</td>\n      <td>16109 WALL ST</td>\n      <td>JERSEY VILLAGE</td>\n      <td>77040</td>\n      <td>1976</td>\n      <td>2450</td>\n      <td>15383</td>\n      <td>304261</td>\n      <td>124</td>\n      <td>N</td>\n    </tr>\n    <tr>\n      <th>26</th>\n      <td>1074380000034</td>\n      <td>HENRY RYAN D &amp; MINDY N</td>\n      <td>16121 WALL ST</td>\n      <td>JERSEY VILLAGE</td>\n      <td>77040</td>\n      <td>1977</td>\n      <td>2229</td>\n      <td>17784</td>\n      <td>290768</td>\n      <td>130</td>\n      <td>N</td>\n    </tr>\n    <tr>\n      <th>27</th>\n      <td>1074380000047</td>\n      <td>MELESKI BENNIE</td>\n      <td>16005 WALL ST</td>\n      <td>JERSEY VILLAGE</td>\n      <td>77040</td>\n      <td>1989</td>\n      <td>2353</td>\n      <td>17934</td>\n      <td>310822</td>\n      <td>132</td>\n      <td>Y</td>\n    </tr>\n    <tr>\n      <th>30</th>\n      <td>1074380000031</td>\n      <td>VOGEL JOSHUA</td>\n      <td>16201 WALL ST</td>\n      <td>JERSEY VILLAGE</td>\n      <td>77040</td>\n      <td>1978</td>\n      <td>2319</td>\n      <td>18206</td>\n      <td>313927</td>\n      <td>135</td>\n      <td>Y</td>\n    </tr>\n    <tr>\n      <th>31</th>\n      <td>1074380000018</td>\n      <td>GUTIERREZ CHRISTIAN F</td>\n      <td>16329 WALL ST</td>\n      <td>JERSEY VILLAGE</td>\n      <td>77040</td>\n      <td>1980</td>\n      <td>2261</td>\n      <td>15731</td>\n      <td>308255</td>\n      <td>136</td>\n      <td>N</td>\n    </tr>\n    <tr>\n      <th>32</th>\n      <td>1074380000016</td>\n      <td>TRAN DIEN</td>\n      <td>16405 WALL ST</td>\n      <td>JERSEY VILLAGE</td>\n      <td>77040</td>\n      <td>1980</td>\n      <td>2240</td>\n      <td>14821</td>\n      <td>307004</td>\n      <td>137</td>\n      <td>Y</td>\n    </tr>\n    <tr>\n      <th>33</th>\n      <td>1074380000035</td>\n      <td>PAOLIVEGA MARIA</td>\n      <td>16117 WALL ST</td>\n      <td>JERSEY VILLAGE</td>\n      <td>77040</td>\n      <td>1976</td>\n      <td>2408</td>\n      <td>16482</td>\n      <td>336049</td>\n      <td>139</td>\n      <td>N</td>\n    </tr>\n    <tr>\n      <th>35</th>\n      <td>1074380000023</td>\n      <td>RIBEIRO ERIK</td>\n      <td>16309 WALL ST</td>\n      <td>JERSEY VILLAGE</td>\n      <td>77040</td>\n      <td>1978</td>\n      <td>2270</td>\n      <td>15350</td>\n      <td>329772</td>\n      <td>145</td>\n      <td>N</td>\n    </tr>\n  </tbody>\n</table>\n</div>"
     },
     "execution_count": 6,
     "metadata": {},
     "output_type": "execute_result"
    }
   ],
   "source": [
    "# Find houses with +/- 15% of the building and land square footage\n",
    "my_bld_area = 2236\n",
    "my_land_area = 15968\n",
    "factor = 0.1\n",
    "\n",
    "building_upper_limit = my_bld_area * (factor + 1)\n",
    "building_lower_limit = my_bld_area - (my_bld_area * factor)\n",
    "\n",
    "land_upper_limit = my_land_area * 1.15\n",
    "land_lower_limit = my_land_area - (my_land_area * factor)\n",
    "\n",
    "df_near = df[(df['building_area'] >= building_lower_limit) & (df['building_area'] <= building_upper_limit) &\n",
    "             (df['land_area'] >= land_lower_limit) & (df['land_area'] <= land_upper_limit)]\n",
    "df_near"
   ]
  },
  {
   "cell_type": "code",
   "execution_count": 6,
   "metadata": {
    "pycharm": {
     "name": "#%%\n"
    }
   },
   "outputs": [],
   "source": []
  }
 ],
 "metadata": {
  "kernelspec": {
   "display_name": "Python 3.10.5 ('venv': venv)",
   "language": "python",
   "name": "python3"
  },
  "language_info": {
   "codemirror_mode": {
    "name": "ipython",
    "version": 3
   },
   "file_extension": ".py",
   "mimetype": "text/x-python",
   "name": "python",
   "nbconvert_exporter": "python",
   "pygments_lexer": "ipython3",
   "version": "3.10.5"
  },
  "orig_nbformat": 4,
  "vscode": {
   "interpreter": {
    "hash": "fda7081b85073f04ea21577b45199d2026763a9263cdb905ffcb8f3ee4f7fdd6"
   }
  }
 },
 "nbformat": 4,
 "nbformat_minor": 2
}